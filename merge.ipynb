{
 "metadata": {
  "language_info": {
   "codemirror_mode": {
    "name": "ipython",
    "version": 3
   },
   "file_extension": ".py",
   "mimetype": "text/x-python",
   "name": "python",
   "nbconvert_exporter": "python",
   "pygments_lexer": "ipython3",
   "version": "3.8.5"
  },
  "orig_nbformat": 2,
  "kernelspec": {
   "name": "python385jvsc74a57bd05d42bb3e1c1afa804c296b0713415242ceb93874b5c1d7016309b07083afc30a",
   "display_name": "Python 3.8.5 64-bit (conda)"
  },
  "metadata": {
   "interpreter": {
    "hash": "4a89d834f181da135a83e9734ffdcaaf33420f492c3282f1c3fbdbf98351b290"
   }
  }
 },
 "nbformat": 4,
 "nbformat_minor": 2,
 "cells": [
  {
   "cell_type": "code",
   "execution_count": null,
   "metadata": {},
   "outputs": [],
   "source": [
    "import json\n",
    "\n",
    "\n",
    "with open (working_dir + '/data/cache.json','r') as cache_file:\n",
    "    cache_dict = json.load(cache_file)\n"
   ]
  },
  {
   "cell_type": "code",
   "execution_count": 1,
   "metadata": {},
   "outputs": [],
   "source": [
    "import os\n",
    "import json\n",
    "\n",
    "cells = []\n",
    "for subfolder in os.listdir('Part 1'):\n",
    "    for file in os.listdir('Part 1/' +subfolder ):    \n",
    "        with open('Part 1/' +subfolder + '/' + file) as f:\n",
    "            data = json.load(f)\n",
    "\n",
    "        cells = cells + data['cells']"
   ]
  },
  {
   "cell_type": "code",
   "execution_count": 2,
   "metadata": {},
   "outputs": [],
   "source": [
    "len(cells)\n",
    "dict_write = {\n",
    "    \"cells\":cells,\n",
    "    \"metadata\": {\n",
    "        \"kernelspec\": {\n",
    "        \"display_name\": \"Python 3\",\n",
    "        \"language\": \"python\",\n",
    "        \"name\": \"python3\"\n",
    "        },\n",
    "        \"language_info\": {\n",
    "        \"codemirror_mode\": {\n",
    "            \"name\": \"ipython\",\n",
    "            \"version\": 3\n",
    "        },\n",
    "        \"file_extension\": \".py\",\n",
    "        \"mimetype\": \"text/x-python\",\n",
    "        \"name\": \"python\",\n",
    "        \"nbconvert_exporter\": \"python\",\n",
    "        \"pygments_lexer\": \"ipython3\",\n",
    "        \"version\": \"3.6.1\"\n",
    "    }\n",
    " },\n",
    " \"nbformat\": 4,\n",
    " \"nbformat_minor\": 2\n",
    "}\n"
   ]
  },
  {
   "cell_type": "code",
   "execution_count": null,
   "metadata": {},
   "outputs": [],
   "source": [
    "with open('masterbook1.json',\"w\") as p1c:\n",
    "    json.dump(dict_write,p1c)"
   ]
  },
  {
   "cell_type": "code",
   "execution_count": 4,
   "metadata": {},
   "outputs": [
    {
     "output_type": "execute_result",
     "data": {
      "text/plain": [
       "dict_keys(['cells', 'metadata', 'nbformat', 'nbformat_minor'])"
      ]
     },
     "metadata": {},
     "execution_count": 4
    }
   ],
   "source": [
    "dict_write.keys()"
   ]
  },
  {
   "cell_type": "code",
   "execution_count": null,
   "metadata": {},
   "outputs": [],
   "source": [
    "type()"
   ]
  }
 ]
}